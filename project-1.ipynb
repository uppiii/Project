{
 "cells": [
  {
   "cell_type": "code",
   "execution_count": 1,
   "id": "f9247f88-9df7-4dc0-aea7-b52fd044b841",
   "metadata": {},
   "outputs": [],
   "source": [
    "import pandas as pd\n",
    "import numpy as np\n",
    "import matplotlib.pyplot as plt\n",
    "import seaborn as sns\n",
    "from sklearn.model_selection import train_test_split, GridSearchCV\n",
    "from sklearn.preprocessing import StandardScaler, OneHotEncoder\n",
    "from sklearn.compose import ColumnTransformer\n",
    "from sklearn.pipeline import Pipeline\n",
    "from sklearn.tree import DecisionTreeClassifier, plot_tree\n",
    "from sklearn.linear_model import LogisticRegression\n",
    "from sklearn.metrics import accuracy_score, precision_score, recall_score, f1_score, confusion_matrix, classification_report\n",
    "import shap\n",
    "import joblib"
   ]
  },
  {
   "cell_type": "code",
   "execution_count": 4,
   "id": "72a28b81-924c-4969-9445-07ee3fb80d9c",
   "metadata": {},
   "outputs": [],
   "source": [
    "# ---------- 1. LOAD DATA ----------\n",
    "df = pd.read_excel('data.xls')"
   ]
  },
  {
   "cell_type": "code",
   "execution_count": 5,
   "id": "39f1da71-5bba-4462-a58f-268a7a715d6c",
   "metadata": {},
   "outputs": [
    {
     "name": "stdout",
     "output_type": "stream",
     "text": [
      "(9994, 21)\n",
      "Index(['Row ID', 'Order ID', 'Order Date', 'Ship Date', 'Ship Mode',\n",
      "       'Customer ID', 'Customer Name', 'Segment', 'Country', 'City', 'State',\n",
      "       'Postal Code', 'Region', 'Product ID', 'Category', 'Sub-Category',\n",
      "       'Product Name', 'Sales', 'Quantity', 'Discount', 'Profit'],\n",
      "      dtype='object')\n"
     ]
    }
   ],
   "source": [
    "# Quick look\n",
    "print(df.shape)\n",
    "print(df.columns)"
   ]
  },
  {
   "cell_type": "code",
   "execution_count": 7,
   "id": "fda85549-f3be-4364-a40c-ea8d4fbb8441",
   "metadata": {},
   "outputs": [
    {
     "name": "stdout",
     "output_type": "stream",
     "text": [
      "['Age', 'Attrition', 'BusinessTravel', 'DailyRate', 'Department', 'DistanceFromHome', 'Education', 'EducationField', 'EmployeeCount', 'EmployeeNumber', 'EnvironmentSatisfaction', 'Gender', 'HourlyRate', 'JobInvolvement', 'JobLevel', 'JobRole', 'JobSatisfaction', 'MaritalStatus', 'MonthlyIncome', 'MonthlyRate', 'NumCompaniesWorked', 'Over18', 'OverTime', 'PercentSalaryHike', 'PerformanceRating', 'RelationshipSatisfaction', 'StandardHours', 'StockOptionLevel', 'TotalWorkingYears', 'TrainingTimesLastYear', 'WorkLifeBalance', 'YearsAtCompany', 'YearsInCurrentRole', 'YearsSinceLastPromotion', 'YearsWithCurrManager']\n"
     ]
    }
   ],
   "source": [
    "import pandas as pd\n",
    "\n",
    "df = pd.read_csv('https://raw.githubusercontent.com/pplonski/datasets-for-start/master/employee_attrition/HR-Employee-Attrition-All.csv')\n",
    "print(df.columns.tolist())\n"
   ]
  },
  {
   "cell_type": "code",
   "execution_count": 8,
   "id": "46db62e4-f150-4b5b-bb83-a3e9b00fe73a",
   "metadata": {},
   "outputs": [],
   "source": [
    "df['AttritionFlag'] = df['Attrition'].map({'Yes': 1, 'No': 0})\n"
   ]
  },
  {
   "cell_type": "code",
   "execution_count": 9,
   "id": "119b23e0-21a1-405a-93da-234bae4f151c",
   "metadata": {},
   "outputs": [],
   "source": [
    "# Feature-target split\n",
    "X = df.drop(columns=['Attrition', 'AttritionFlag'])\n",
    "y = df['AttritionFlag']"
   ]
  },
  {
   "cell_type": "code",
   "execution_count": 10,
   "id": "0e5371e0-d3ff-4a3b-9b66-478c7ac46f2f",
   "metadata": {},
   "outputs": [],
   "source": [
    "# Split data\n",
    "X_train, X_test, y_train, y_test = train_test_split(X, y, test_size=0.2, random_state=42, stratify=y)"
   ]
  },
  {
   "cell_type": "code",
   "execution_count": 11,
   "id": "55edb12f-09aa-4a7b-ae1e-0d4a761031a3",
   "metadata": {},
   "outputs": [],
   "source": [
    "# Identify feature types\n",
    "numeric_features = X.select_dtypes(include=['int64','float64']).columns.tolist()\n",
    "categorical_features = X.select_dtypes(include=['object']).columns.tolist()"
   ]
  },
  {
   "cell_type": "code",
   "execution_count": 13,
   "id": "af229f5c-fed0-4cc7-a1c7-620c44ae9575",
   "metadata": {},
   "outputs": [],
   "source": [
    "# Preprocessing pipeline\n",
    "num_transformer = Pipeline(steps=[('scaler', StandardScaler())])\n",
    "cat_transformer = Pipeline(steps=[('ohe', OneHotEncoder(handle_unknown='ignore'))])\n",
    "\n",
    "\n",
    "preprocessor = ColumnTransformer([\n",
    "('num', num_transformer, numeric_features),\n",
    "('cat', cat_transformer, categorical_features)\n",
    "])"
   ]
  },
  {
   "cell_type": "code",
   "execution_count": 14,
   "id": "35548dca-4278-43a7-9ab4-68843ce2c502",
   "metadata": {},
   "outputs": [],
   "source": [
    "# Model pipeline\n",
    "clf = DecisionTreeClassifier(random_state=42)\n",
    "pipe = Pipeline(steps=[('pre', preprocessor), ('clf', clf)])"
   ]
  },
  {
   "cell_type": "code",
   "execution_count": 17,
   "id": "f402b6e2-1464-4133-ab6a-43d0122c84d3",
   "metadata": {},
   "outputs": [
    {
     "name": "stdout",
     "output_type": "stream",
     "text": [
      "Best parameters: {'clf__max_depth': None, 'clf__min_samples_split': 2}\n"
     ]
    }
   ],
   "source": [
    "# Hyperparameter tuning\n",
    "param_grid = {\n",
    "'clf__max_depth': [3, 5, 7, 9, None],\n",
    "'clf__min_samples_split': [2, 5, 10]\n",
    "}\n",
    "\n",
    "\n",
    "grid = GridSearchCV(pipe, param_grid, cv=5, scoring='f1', n_jobs=1)\n",
    "grid.fit(X_train, y_train)\n",
    "\n",
    "\n",
    "best_model = grid.best_estimator_\n",
    "print('Best parameters:', grid.best_params_)"
   ]
  },
  {
   "cell_type": "code",
   "execution_count": 19,
   "id": "69d3270a-fa74-4edb-b3e2-5e5eb36ae182",
   "metadata": {},
   "outputs": [],
   "source": [
    "# Predictions\n",
    "y_pred = best_model.predict(X_test)"
   ]
  },
  {
   "cell_type": "code",
   "execution_count": 20,
   "id": "f149b7d1-6b28-456e-b245-dbb027bf87e6",
   "metadata": {},
   "outputs": [
    {
     "name": "stdout",
     "output_type": "stream",
     "text": [
      "Accuracy: 0.7789115646258503\n",
      "Precision: 0.3269230769230769\n",
      "Recall: 0.3617021276595745\n",
      "F1 Score: 0.3434343434343434\n",
      "\n",
      "Classification Report:\n",
      "               precision    recall  f1-score   support\n",
      "\n",
      "           0       0.88      0.86      0.87       247\n",
      "           1       0.33      0.36      0.34        47\n",
      "\n",
      "    accuracy                           0.78       294\n",
      "   macro avg       0.60      0.61      0.61       294\n",
      "weighted avg       0.79      0.78      0.78       294\n",
      "\n"
     ]
    }
   ],
   "source": [
    "# Evaluation\n",
    "print('Accuracy:', accuracy_score(y_test, y_pred))\n",
    "print('Precision:', precision_score(y_test, y_pred))\n",
    "print('Recall:', recall_score(y_test, y_pred))\n",
    "print('F1 Score:', f1_score(y_test, y_pred))\n",
    "print('\\nClassification Report:\\n', classification_report(y_test, y_pred))"
   ]
  },
  {
   "cell_type": "code",
   "execution_count": 26,
   "id": "1f8b786a-65ab-41f2-9d6d-f7506b7257a2",
   "metadata": {},
   "outputs": [
    {
     "data": {
      "image/png": "[encoded data removed]",
      "text/plain": [
       "<Figure size 500x400 with 2 Axes>"
      ]
     },
     "metadata": {},
     "output_type": "display_data"
    }
   ],
   "source": [
    "cm = confusion_matrix(y_test, y_pred)\n",
    "\n",
    "plt.figure(figsize=(5,4))\n",
    "sns.heatmap(cm, annot=True, fmt='d', cmap='Blues', xticklabels=['No Attrition', 'Attrition'], yticklabels=['No Attrition', 'Attrition'])\n",
    "plt.xlabel('Predicted')\n",
    "plt.ylabel('Actual')\n",
    "plt.title('Confusion Matrix')\n",
    "\n",
    "# Save + Show\n",
    "plt.savefig('confusion_matrix.png', bbox_inches='tight')\n",
    "plt.show()"
   ]
  },
  {
   "cell_type": "code",
   "execution_count": 27,
   "id": "a103e42c-49c9-4878-a2dd-fef4bc666ffe",
   "metadata": {},
   "outputs": [],
   "source": [
    "# SHAP Explainability\n",
    "explainer = shap.Explainer(best_model.named_steps['clf'], best_model.named_steps['pre'].transform(X_train))\n",
    "X_test_trans = best_model.named_steps['pre'].transform(X_test)\n",
    "shap_values = explainer(X_test_trans)\n",
    "\n",
    "\n",
    "shap.summary_plot(shap_values, X_test_trans, show=False)\n",
    "plt.savefig('shap_summary.png', bbox_inches='tight')\n",
    "plt.close()"
   ]
  },
  {
   "cell_type": "code",
   "execution_count": 28,
   "id": "02f89d3f-2ad8-4818-9ae6-a7bc014e4342",
   "metadata": {},
   "outputs": [
    {
     "name": "stdout",
     "output_type": "stream",
     "text": [
      "Model, confusion matrix, and SHAP plots saved successfully!\n"
     ]
    }
   ],
   "source": [
    "\n",
    "\n",
    "# Save model and report\n",
    "joblib.dump(best_model, 'hr_attrition_model.joblib')\n",
    "with open('classification_report.txt', 'w') as f:\n",
    "    f.write(classification_report(y_test, y_pred))\n",
    "\n",
    "\n",
    "print('Model, confusion matrix, and SHAP plots saved successfully!')"
   ]
  },
  {
   "cell_type": "code",
   "execution_count": null,
   "id": "21712eb9-1f9d-4001-8c12-b74bded73b75",
   "metadata": {},
   "outputs": [],
   "source": []
  }
 ],
 "metadata": {
  "kernelspec": {
   "display_name": "Python 3 (ipykernel)",
   "language": "python",
   "name": "python3"
  },
  "language_info": {
   "codemirror_mode": {
    "name": "ipython",
    "version": 3
   },
   "file_extension": ".py",
   "mimetype": "text/x-python",
   "name": "python",
   "nbconvert_exporter": "python",
   "pygments_lexer": "ipython3",
   "version": "3.13.7"
  }
 },
 "nbformat": 4,
 "nbformat_minor": 5
}
